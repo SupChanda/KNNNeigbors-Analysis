{
 "cells": [
  {
   "cell_type": "markdown",
   "metadata": {},
   "source": [
    "# Project 4 Report\n",
    "\n",
    "## Team members: Bishal Sainju,Victor Lee,Supratik Chanda\n",
    "\n",
    "## Introduction:\n",
    "## This dataset consists of a nearly 3000 Amazon customer reviews (input text), star ratings, date of review, variant and feedback of various amazon Alexa products like Alexa Echo, Echo dots, Alexa Firesticks etc. for learning how to train Machine for sentiment analysis. We use this data to analyze Amazon’s Alexa product ; discover insights into consumer reviews and assist with machine learning models.We  also train your machine models for sentiment analysis and analyze customer reviews how many positive reviews ? and how many negative reviews ?\n",
    "\n",
    "## Methods:\n",
    "#### 1) First of all we check whether there is any null value or not \n",
    "\n",
    "#### 2) Convert all the data types to float to avoid any typecasting error\n",
    "\n",
    "#### 3) Dropping all the columns that we don't need for this analysis\n",
    "\n",
    "#### 4) Encoding categorical values: 'variation' using  pd.get_dummies .get_dummies is applied to a column of categories where we have one category per observation will produce a new column (variable) for each unique categorical value.\n",
    "\n",
    "#### 5) We use NLTK package from NLP to identify the stopwords from every sentence of verified_reviews and remove the words.\n",
    "#### 6) Then, we use the WordnetLemmatizer from wordnet package to lemmatize every word from the sentence and reconstruct it \n",
    "#### 7) When the new sentence is formed is formed, with removal of stopwords and lemmatization, we use feature extraction of text with the help of CountVectorizer to convert a collection of text documents to a matrix of token counts\n",
    "#### 8) Then we use the sparse matrix as X, and the feedback column as the Y.\n",
    "## Results:\n",
    "#### 1)We also used the gridSearchCV to come up with the best parameters and we came up with these parameters: \n",
    "\n",
    "#### {'algorithm': 'auto', 'leaf_size': 89, 'metric': 'minkowski', 'n_neighbors': 5, 'p': 2, 'weights': 'distance'}\n",
    "#### 2) We fit the neighbors model for this dataset with the parameters also and found out that the f1_score =95. Isn't that good!\n",
    "#### 3) When we saw  the confusion matrix we came up with this result:\n",
    "        f1_score:  0.9586776859504132\n",
    "        precision:  [0.         0.92063492] \n",
    "         recall:  [0. 1.] \n",
    "         f_score:  [0.         0.95867769]\n",
    "        Confusion Matrix:[[  0  50]\n",
    "                         [  0 580]]\n",
    "                         \n",
    "         1st row: TP = 0;FP = 50;\n",
    "         2nd row: FN = 0;TN = 580\n",
    "         \n",
    "<img src='figAlexaCount.png' style='height:500px'>        "
   ]
  },
  {
   "cell_type": "code",
   "execution_count": 7,
   "metadata": {},
   "outputs": [
    {
     "ename": "ImportError",
     "evalue": "cannot import name 'LabelEnc' from 'sklearn.preprocessing' (/anaconda3/lib/python3.7/site-packages/sklearn/preprocessing/__init__.py)",
     "output_type": "error",
     "traceback": [
      "\u001b[0;31m---------------------------------------------------------------------------\u001b[0m",
      "\u001b[0;31mImportError\u001b[0m                               Traceback (most recent call last)",
      "\u001b[0;32m<ipython-input-7-c06a01277468>\u001b[0m in \u001b[0;36m<module>\u001b[0;34m\u001b[0m\n\u001b[1;32m      4\u001b[0m \u001b[0;32mimport\u001b[0m \u001b[0mpandas\u001b[0m \u001b[0;32mas\u001b[0m \u001b[0mpd\u001b[0m\u001b[0;34m\u001b[0m\u001b[0;34m\u001b[0m\u001b[0m\n\u001b[1;32m      5\u001b[0m \u001b[0;32mimport\u001b[0m \u001b[0mnltk\u001b[0m\u001b[0;34m\u001b[0m\u001b[0;34m\u001b[0m\u001b[0m\n\u001b[0;32m----> 6\u001b[0;31m \u001b[0;32mfrom\u001b[0m \u001b[0msklearn\u001b[0m\u001b[0;34m.\u001b[0m\u001b[0mpreprocessing\u001b[0m \u001b[0;32mimport\u001b[0m \u001b[0mLabelEnc\u001b[0m\u001b[0;34m\u001b[0m\u001b[0;34m\u001b[0m\u001b[0m\n\u001b[0m\u001b[1;32m      7\u001b[0m \u001b[0moder\u001b[0m\u001b[0;34m\u001b[0m\u001b[0;34m\u001b[0m\u001b[0m\n\u001b[1;32m      8\u001b[0m \u001b[0mdf\u001b[0m\u001b[0;34m=\u001b[0m \u001b[0mpd\u001b[0m\u001b[0;34m.\u001b[0m\u001b[0mread_csv\u001b[0m\u001b[0;34m(\u001b[0m\u001b[0;34m'amazon_alexa.tsv'\u001b[0m\u001b[0;34m,\u001b[0m\u001b[0mdelimiter\u001b[0m\u001b[0;34m=\u001b[0m\u001b[0;34m'\\t'\u001b[0m\u001b[0;34m,\u001b[0m\u001b[0mquoting\u001b[0m\u001b[0;34m=\u001b[0m\u001b[0;36m3\u001b[0m\u001b[0;34m)\u001b[0m\u001b[0;34m\u001b[0m\u001b[0;34m\u001b[0m\u001b[0m\n",
      "\u001b[0;31mImportError\u001b[0m: cannot import name 'LabelEnc' from 'sklearn.preprocessing' (/anaconda3/lib/python3.7/site-packages/sklearn/preprocessing/__init__.py)"
     ]
    }
   ],
   "source": [
    "import re\n",
    "import csv\n",
    "import numpy as np\n",
    "import pandas as pd\n",
    "import nltk\n",
    "from sklearn.preprocessing import LabelEncoder\n",
    "df= pd.read_csv('amazon_alexa.tsv',delimiter='\\t',quoting=3)\n",
    "df.head()"
   ]
  },
  {
   "cell_type": "code",
   "execution_count": 4,
   "metadata": {},
   "outputs": [
    {
     "ename": "NameError",
     "evalue": "name 'df' is not defined",
     "output_type": "error",
     "traceback": [
      "\u001b[0;31m---------------------------------------------------------------------------\u001b[0m",
      "\u001b[0;31mNameError\u001b[0m                                 Traceback (most recent call last)",
      "\u001b[0;32m<ipython-input-4-629914d6d1c7>\u001b[0m in \u001b[0;36m<module>\u001b[0;34m\u001b[0m\n\u001b[0;32m----> 1\u001b[0;31m \u001b[0mdf\u001b[0m\u001b[0;34m.\u001b[0m\u001b[0misnull\u001b[0m\u001b[0;34m(\u001b[0m\u001b[0;34m)\u001b[0m\u001b[0;34m.\u001b[0m\u001b[0msum\u001b[0m\u001b[0;34m(\u001b[0m\u001b[0;34m)\u001b[0m\u001b[0;34m\u001b[0m\u001b[0;34m\u001b[0m\u001b[0m\n\u001b[0m",
      "\u001b[0;31mNameError\u001b[0m: name 'df' is not defined"
     ]
    }
   ],
   "source": [
    "df.isnull().sum()"
   ]
  },
  {
   "cell_type": "code",
   "execution_count": 5,
   "metadata": {},
   "outputs": [
    {
     "ename": "NameError",
     "evalue": "name 'df' is not defined",
     "output_type": "error",
     "traceback": [
      "\u001b[0;31m---------------------------------------------------------------------------\u001b[0m",
      "\u001b[0;31mNameError\u001b[0m                                 Traceback (most recent call last)",
      "\u001b[0;32m<ipython-input-5-2a9665e4eda0>\u001b[0m in \u001b[0;36m<module>\u001b[0;34m\u001b[0m\n\u001b[0;32m----> 1\u001b[0;31m \u001b[0mprint\u001b[0m\u001b[0;34m(\u001b[0m\u001b[0mdf\u001b[0m\u001b[0;34m.\u001b[0m\u001b[0mdtypes\u001b[0m\u001b[0;34m)\u001b[0m\u001b[0;34m\u001b[0m\u001b[0;34m\u001b[0m\u001b[0m\n\u001b[0m\u001b[1;32m      2\u001b[0m \u001b[0mdf\u001b[0m\u001b[0;34m.\u001b[0m\u001b[0mvariation\u001b[0m\u001b[0;34m.\u001b[0m\u001b[0munique\u001b[0m\u001b[0;34m(\u001b[0m\u001b[0;34m)\u001b[0m\u001b[0;34m\u001b[0m\u001b[0;34m\u001b[0m\u001b[0m\n",
      "\u001b[0;31mNameError\u001b[0m: name 'df' is not defined"
     ]
    }
   ],
   "source": [
    "print(df.dtypes)\n",
    "df.variation.unique()"
   ]
  },
  {
   "cell_type": "code",
   "execution_count": 6,
   "metadata": {},
   "outputs": [
    {
     "ename": "NameError",
     "evalue": "name 'LabelEncoder' is not defined",
     "output_type": "error",
     "traceback": [
      "\u001b[0;31m---------------------------------------------------------------------------\u001b[0m",
      "\u001b[0;31mNameError\u001b[0m                                 Traceback (most recent call last)",
      "\u001b[0;32m<ipython-input-6-6fcea782c63c>\u001b[0m in \u001b[0;36m<module>\u001b[0;34m\u001b[0m\n\u001b[0;32m----> 1\u001b[0;31m \u001b[0mlbl\u001b[0m \u001b[0;34m=\u001b[0m \u001b[0mLabelEncoder\u001b[0m\u001b[0;34m(\u001b[0m\u001b[0;34m)\u001b[0m\u001b[0;34m\u001b[0m\u001b[0;34m\u001b[0m\u001b[0m\n\u001b[0m\u001b[1;32m      2\u001b[0m \u001b[0mdfNew\u001b[0m \u001b[0;34m=\u001b[0m \u001b[0mdf\u001b[0m\u001b[0;34m.\u001b[0m\u001b[0mdrop\u001b[0m\u001b[0;34m(\u001b[0m\u001b[0mcolumns\u001b[0m\u001b[0;34m=\u001b[0m\u001b[0;34m[\u001b[0m\u001b[0;34m'date'\u001b[0m\u001b[0;34m]\u001b[0m\u001b[0;34m)\u001b[0m\u001b[0;34m\u001b[0m\u001b[0;34m\u001b[0m\u001b[0m\n\u001b[1;32m      3\u001b[0m \u001b[0mdisplay\u001b[0m\u001b[0;34m(\u001b[0m\u001b[0mdf\u001b[0m\u001b[0;34m.\u001b[0m\u001b[0mhead\u001b[0m\u001b[0;34m(\u001b[0m\u001b[0;34m)\u001b[0m\u001b[0;34m)\u001b[0m\u001b[0;34m\u001b[0m\u001b[0;34m\u001b[0m\u001b[0m\n\u001b[1;32m      4\u001b[0m \u001b[0mdfNew\u001b[0m\u001b[0;34m[\u001b[0m\u001b[0;34m'variation'\u001b[0m\u001b[0;34m]\u001b[0m \u001b[0;34m=\u001b[0m \u001b[0mlbl\u001b[0m\u001b[0;34m.\u001b[0m\u001b[0mfit_transform\u001b[0m\u001b[0;34m(\u001b[0m\u001b[0mdfNew\u001b[0m\u001b[0;34m[\u001b[0m\u001b[0;34m'variation'\u001b[0m\u001b[0;34m]\u001b[0m\u001b[0;34m)\u001b[0m\u001b[0;34m\u001b[0m\u001b[0;34m\u001b[0m\u001b[0m\n\u001b[1;32m      5\u001b[0m \u001b[0mdfNew\u001b[0m \u001b[0;34m=\u001b[0m \u001b[0mpd\u001b[0m\u001b[0;34m.\u001b[0m\u001b[0mget_dummies\u001b[0m\u001b[0;34m(\u001b[0m\u001b[0mdata\u001b[0m\u001b[0;34m=\u001b[0m\u001b[0mdfNew\u001b[0m\u001b[0;34m,\u001b[0m\u001b[0mcolumns\u001b[0m\u001b[0;34m=\u001b[0m\u001b[0;34m[\u001b[0m\u001b[0;34m'variation'\u001b[0m\u001b[0;34m]\u001b[0m\u001b[0;34m)\u001b[0m\u001b[0;34m\u001b[0m\u001b[0;34m\u001b[0m\u001b[0m\n",
      "\u001b[0;31mNameError\u001b[0m: name 'LabelEncoder' is not defined"
     ]
    }
   ],
   "source": [
    "lbl = LabelEncoder()\n",
    "dfNew = df.drop(columns=['date'])\n",
    "display(df.head())\n",
    "dfNew['variation'] = lbl.fit_transform(dfNew['variation'])\n",
    "dfNew = pd.get_dummies(data=dfNew,columns=['variation'])\n",
    "dfNew.head()"
   ]
  },
  {
   "cell_type": "code",
   "execution_count": 100,
   "metadata": {},
   "outputs": [
    {
     "name": "stdout",
     "output_type": "stream",
     "text": [
      "[[0 0 0 ... 0 0 0]\n",
      " [0 0 0 ... 0 0 0]\n",
      " [0 1 0 ... 0 0 0]\n",
      " ...\n",
      " [0 0 0 ... 0 0 0]\n",
      " [0 0 0 ... 0 0 0]\n",
      " [0 0 0 ... 0 0 0]]\n"
     ]
    }
   ],
   "source": [
    "from nltk.corpus import stopwords\n",
    "from nltk.tokenize import word_tokenize as wt\n",
    "from nltk.stem.wordnet import WordNetLemmatizer\n",
    "#nltk.download('punkt')\n",
    "from sklearn.feature_extraction.text import CountVectorizer\n",
    "#nltk.download('wordnet')\n",
    "lm = WordNetLemmatizer()\n",
    "from nltk.stem.porter import PorterStemmer\n",
    "ps=PorterStemmer()\n",
    "stop_words = set(stopwords.words('english'))\n",
    "wrdList=[]\n",
    "for each in dfNew.verified_reviews:\n",
    "    k =wt(each)\n",
    "    elem=[]\n",
    "    for each in k:\n",
    "        if each not in stop_words and each.isalpha():\n",
    "            elem.append(lm.lemmatize(each.lower()))\n",
    "    wrdList.append(' '.join(elem))\n",
    "#def max_features(i):\n",
    "cv=CountVectorizer(max_features=300)\n",
    "X=cv.fit_transform(wrdList).toarray()\n",
    "print(X)"
   ]
  },
  {
   "cell_type": "code",
   "execution_count": 119,
   "metadata": {},
   "outputs": [
    {
     "name": "stdout",
     "output_type": "stream",
     "text": [
      "dict_keys(['algorithm', 'leaf_size', 'metric', 'metric_params', 'n_jobs', 'n_neighbors', 'p', 'weights'])\n",
      "(3150,) (3150, 300)\n",
      "0.9238095238095239 {'algorithm': 'auto', 'leaf_size': 89, 'metric': 'minkowski', 'n_neighbors': 5, 'p': 2, 'weights': 'distance'} KNeighborsClassifier(algorithm='auto', leaf_size=89, metric='minkowski',\n",
      "           metric_params=None, n_jobs=1, n_neighbors=5, p=2,\n",
      "           weights='distance')\n"
     ]
    }
   ],
   "source": [
    "from sklearn.neighbors import KNeighborsClassifier,NearestNeighbors\n",
    "from sklearn.model_selection import GridSearchCV\n",
    "from sklearn.model_selection import train_test_split\n",
    "knn=KNeighborsClassifier()\n",
    "params = dict(n_neighbors=[5,8,10,15],weights=['uniform','distance'],algorithm=['auto'],\n",
    "             p=[1,2],leaf_size=[30,44,67,89,90],metric=['minkowski','euclidean','manhattan'])\n",
    "print(knn.get_params().keys())\n",
    "Y = dfNew.feedback\n",
    "print(Y.shape,X.shape)\n",
    "grid=GridSearchCV(estimator=knn,param_grid=params,cv=10,n_jobs=-1,scoring='accuracy')\n",
    "X_train,X_test,y_train,y_test=train_test_split(X,Y,test_size=0.2,random_state=3)\n",
    "grid.fit(X_train,y_train)\n",
    "print(grid.best_score_,grid.best_params_,grid.best_estimator_)"
   ]
  },
  {
   "cell_type": "code",
   "execution_count": 151,
   "metadata": {},
   "outputs": [
    {
     "name": "stdout",
     "output_type": "stream",
     "text": [
      "f1_score:  0.9586776859504132\n",
      "precision:  [0.         0.92063492] \n",
      " recall:  [0. 1.] \n",
      " f_score:  [0.         0.95867769]\n",
      "[[  0  50]\n",
      " [  0 580]]\n"
     ]
    },
    {
     "name": "stderr",
     "output_type": "stream",
     "text": [
      "C:\\Users\\supratik chanda\\Documents\\New folder (2)\\lib\\site-packages\\sklearn\\metrics\\classification.py:1135: UndefinedMetricWarning: Precision and F-score are ill-defined and being set to 0.0 in labels with no predicted samples.\n",
      "  'precision', 'predicted', average, warn_for)\n"
     ]
    }
   ],
   "source": [
    "from scipy import stats\n",
    "from sklearn.metrics import f1_score as f1,precision_recall_fscore_support\n",
    "nn = NearestNeighbors(n_neighbors=5,p=2,metric='minkowski',algorithm='auto')\n",
    "fitnn = nn.fit(X_train,y_train)\n",
    "y_pred=[]\n",
    "distances,indices=fitnn.kneighbors(X_test)\n",
    "for index in indices:\n",
    "    list_Y_values_pred =[Y[elem] for elem in index]\n",
    "    y_pred.append(stats.mode(list_Y_values_pred)[0][0])\n",
    "p,r,f,s=precision_recall_fscore_support(y_test,y_pred)\n",
    "print('f1_score: ',f1(y_test,y_pred))\n",
    "print('precision: ',p,'\\n','recall: ',r,'\\n','f_score: ',f)\n",
    "\n",
    "from sklearn.metrics import confusion_matrix\n",
    "print(confusion_matrix(y_test,y_pred))"
   ]
  },
  {
   "cell_type": "code",
   "execution_count": 153,
   "metadata": {},
   "outputs": [
    {
     "data": {
      "image/png": "[encoded data removed]",
      "text/plain": [
       "<Figure size 720x288 with 2 Axes>"
      ]
     },
     "metadata": {},
     "output_type": "display_data"
    }
   ],
   "source": [
    "import matplotlib.pyplot as plt\n",
    "import seaborn as sns\n",
    "fig=plt.figure(figsize=(10,4))\n",
    "fig.subplots_adjust(wspace=0.5)\n",
    "y_List=[y_test,y_pred]\n",
    "label=['y_test','y_pred']\n",
    "for i in range(0,len(y_List)):\n",
    "    ax=fig.add_subplot(1,2,i+1)\n",
    "    ax=sns.countplot(y_List[i],palette='spring')\n",
    "    ax.set_xlabel(label[i])\n",
    "plt.savefig('figAlexaCount.png')\n",
    "#plt.show()"
   ]
  },
  {
   "cell_type": "code",
   "execution_count": null,
   "metadata": {},
   "outputs": [],
   "source": []
  }
 ],
 "metadata": {
  "kernelspec": {
   "display_name": "Python 3",
   "language": "python",
   "name": "python3"
  },
  "language_info": {
   "codemirror_mode": {
    "name": "ipython",
    "version": 3
   },
   "file_extension": ".py",
   "mimetype": "text/x-python",
   "name": "python",
   "nbconvert_exporter": "python",
   "pygments_lexer": "ipython3",
   "version": "3.7.1"
  }
 },
 "nbformat": 4,
 "nbformat_minor": 2
}
